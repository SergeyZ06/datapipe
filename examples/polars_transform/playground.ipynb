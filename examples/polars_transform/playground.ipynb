{
 "cells": [
  {
   "cell_type": "code",
   "execution_count": 10,
   "metadata": {},
   "outputs": [],
   "source": [
    "import polars as pl"
   ]
  },
  {
   "cell_type": "code",
   "execution_count": 11,
   "metadata": {},
   "outputs": [],
   "source": [
    "df = pl.DataFrame(\n",
    "    {\n",
    "        \"id\": [1, 2, 3, 4, 5],\n",
    "        \"a\": [1, 2, 3, 4, 5],\n",
    "        \"b\": [1, 2, 3, 4, 5],\n",
    "    }\n",
    ")"
   ]
  },
  {
   "cell_type": "code",
   "execution_count": 12,
   "metadata": {},
   "outputs": [],
   "source": [
    "for i in range(10):\n",
    "    df.write_parquet(f\"input/2023-05-25--{i:04}-also-some-text.parquet\")"
   ]
  },
  {
   "cell_type": "code",
   "execution_count": 13,
   "metadata": {},
   "outputs": [],
   "source": [
    "import app"
   ]
  },
  {
   "cell_type": "code",
   "execution_count": 14,
   "metadata": {},
   "outputs": [],
   "source": [
    "input_dt = app.catalog.get_datatable(app.ds, \"input\")"
   ]
  },
  {
   "cell_type": "code",
   "execution_count": 17,
   "metadata": {},
   "outputs": [
    {
     "data": {
      "text/html": [
       "<div>\n",
       "<style scoped>\n",
       "    .dataframe tbody tr th:only-of-type {\n",
       "        vertical-align: middle;\n",
       "    }\n",
       "\n",
       "    .dataframe tbody tr th {\n",
       "        vertical-align: top;\n",
       "    }\n",
       "\n",
       "    .dataframe thead th {\n",
       "        text-align: right;\n",
       "    }\n",
       "</style>\n",
       "<table border=\"1\" class=\"dataframe\">\n",
       "  <thead>\n",
       "    <tr style=\"text-align: right;\">\n",
       "      <th></th>\n",
       "      <th>raw_input_chunk</th>\n",
       "      <th>filepath</th>\n",
       "    </tr>\n",
       "  </thead>\n",
       "  <tbody>\n",
       "    <tr>\n",
       "      <th>0</th>\n",
       "      <td>2023-05-25--0000-also-some-text</td>\n",
       "      <td>/home/elephantum/Epoch8/Datapipe/datapipe/exam...</td>\n",
       "    </tr>\n",
       "    <tr>\n",
       "      <th>1</th>\n",
       "      <td>2023-05-25--0001-also-some-text</td>\n",
       "      <td>/home/elephantum/Epoch8/Datapipe/datapipe/exam...</td>\n",
       "    </tr>\n",
       "    <tr>\n",
       "      <th>2</th>\n",
       "      <td>2023-05-25--0002-also-some-text</td>\n",
       "      <td>/home/elephantum/Epoch8/Datapipe/datapipe/exam...</td>\n",
       "    </tr>\n",
       "    <tr>\n",
       "      <th>3</th>\n",
       "      <td>2023-05-25--0003-also-some-text</td>\n",
       "      <td>/home/elephantum/Epoch8/Datapipe/datapipe/exam...</td>\n",
       "    </tr>\n",
       "    <tr>\n",
       "      <th>4</th>\n",
       "      <td>2023-05-25--0004-also-some-text</td>\n",
       "      <td>/home/elephantum/Epoch8/Datapipe/datapipe/exam...</td>\n",
       "    </tr>\n",
       "    <tr>\n",
       "      <th>5</th>\n",
       "      <td>2023-05-25--0005-also-some-text</td>\n",
       "      <td>/home/elephantum/Epoch8/Datapipe/datapipe/exam...</td>\n",
       "    </tr>\n",
       "    <tr>\n",
       "      <th>6</th>\n",
       "      <td>2023-05-25--0006-also-some-text</td>\n",
       "      <td>/home/elephantum/Epoch8/Datapipe/datapipe/exam...</td>\n",
       "    </tr>\n",
       "    <tr>\n",
       "      <th>7</th>\n",
       "      <td>2023-05-25--0007-also-some-text</td>\n",
       "      <td>/home/elephantum/Epoch8/Datapipe/datapipe/exam...</td>\n",
       "    </tr>\n",
       "    <tr>\n",
       "      <th>8</th>\n",
       "      <td>2023-05-25--0008-also-some-text</td>\n",
       "      <td>/home/elephantum/Epoch8/Datapipe/datapipe/exam...</td>\n",
       "    </tr>\n",
       "    <tr>\n",
       "      <th>9</th>\n",
       "      <td>2023-05-25--0009-also-some-text</td>\n",
       "      <td>/home/elephantum/Epoch8/Datapipe/datapipe/exam...</td>\n",
       "    </tr>\n",
       "  </tbody>\n",
       "</table>\n",
       "</div>"
      ],
      "text/plain": [
       "                   raw_input_chunk  \\\n",
       "0  2023-05-25--0000-also-some-text   \n",
       "1  2023-05-25--0001-also-some-text   \n",
       "2  2023-05-25--0002-also-some-text   \n",
       "3  2023-05-25--0003-also-some-text   \n",
       "4  2023-05-25--0004-also-some-text   \n",
       "5  2023-05-25--0005-also-some-text   \n",
       "6  2023-05-25--0006-also-some-text   \n",
       "7  2023-05-25--0007-also-some-text   \n",
       "8  2023-05-25--0008-also-some-text   \n",
       "9  2023-05-25--0009-also-some-text   \n",
       "\n",
       "                                            filepath  \n",
       "0  /home/elephantum/Epoch8/Datapipe/datapipe/exam...  \n",
       "1  /home/elephantum/Epoch8/Datapipe/datapipe/exam...  \n",
       "2  /home/elephantum/Epoch8/Datapipe/datapipe/exam...  \n",
       "3  /home/elephantum/Epoch8/Datapipe/datapipe/exam...  \n",
       "4  /home/elephantum/Epoch8/Datapipe/datapipe/exam...  \n",
       "5  /home/elephantum/Epoch8/Datapipe/datapipe/exam...  \n",
       "6  /home/elephantum/Epoch8/Datapipe/datapipe/exam...  \n",
       "7  /home/elephantum/Epoch8/Datapipe/datapipe/exam...  \n",
       "8  /home/elephantum/Epoch8/Datapipe/datapipe/exam...  \n",
       "9  /home/elephantum/Epoch8/Datapipe/datapipe/exam...  "
      ]
     },
     "execution_count": 17,
     "metadata": {},
     "output_type": "execute_result"
    }
   ],
   "source": [
    "input_dt.get_data()"
   ]
  },
  {
   "cell_type": "code",
   "execution_count": null,
   "metadata": {},
   "outputs": [],
   "source": []
  }
 ],
 "metadata": {
  "kernelspec": {
   "display_name": "venv",
   "language": "python",
   "name": "python3"
  },
  "language_info": {
   "codemirror_mode": {
    "name": "ipython",
    "version": 3
   },
   "file_extension": ".py",
   "mimetype": "text/x-python",
   "name": "python",
   "nbconvert_exporter": "python",
   "pygments_lexer": "ipython3",
   "version": "3.10.6"
  },
  "orig_nbformat": 4
 },
 "nbformat": 4,
 "nbformat_minor": 2
}
