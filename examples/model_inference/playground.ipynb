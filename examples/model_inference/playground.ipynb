{
 "cells": [
  {
   "cell_type": "code",
   "execution_count": 1,
   "metadata": {},
   "outputs": [],
   "source": [
    "import app\n",
    "step = app.app.steps[-1]"
   ]
  },
  {
   "cell_type": "code",
   "execution_count": 2,
   "metadata": {},
   "outputs": [
    {
     "name": "stdout",
     "output_type": "stream",
     "text": [
      "WITH input_meta__update_ts AS \n",
      "(SELECT input_id, max(input_meta.update_ts) AS update_ts \n",
      "FROM input_meta GROUP BY input_id), \n",
      "models_meta__update_ts AS \n",
      "(SELECT model_id, max(models_meta.update_ts) AS update_ts \n",
      "FROM models_meta GROUP BY model_id), \n",
      "all__update_ts AS \n",
      "(SELECT input_meta__update_ts.input_id AS input_id, models_meta__update_ts.model_id AS model_id, max(input_meta__update_ts.update_ts, models_meta__update_ts.update_ts) AS update_ts \n",
      "FROM input_meta__update_ts FULL OUTER JOIN models_meta__update_ts ON :param_1), \n",
      "transform AS \n",
      "(SELECT input_id, model_id, apply_functions_634cbbc660_meta.process_ts AS process_ts \n",
      "FROM apply_functions_634cbbc660_meta \n",
      "WHERE apply_functions_634cbbc660_meta.is_success = true GROUP BY input_id, model_id)\n",
      " SELECT coalesce(all__update_ts.input_id, transform.input_id) AS input_id, coalesce(all__update_ts.model_id, transform.model_id) AS model_id \n",
      "FROM all__update_ts FULL OUTER JOIN transform ON all__update_ts.input_id = transform.input_id AND all__update_ts.model_id = transform.model_id \n",
      "WHERE transform.process_ts < all__update_ts.update_ts OR all__update_ts.update_ts IS NULL OR transform.process_ts IS NULL\n"
     ]
    }
   ],
   "source": [
    "_, sql = step._build_changed_idx_sql(ds=app.app.ds)\n",
    "print(str(sql))"
   ]
  },
  {
   "cell_type": "code",
   "execution_count": null,
   "metadata": {},
   "outputs": [],
   "source": []
  }
 ],
 "metadata": {
  "kernelspec": {
   "display_name": "venv",
   "language": "python",
   "name": "python3"
  },
  "language_info": {
   "codemirror_mode": {
    "name": "ipython",
    "version": 3
   },
   "file_extension": ".py",
   "mimetype": "text/x-python",
   "name": "python",
   "nbconvert_exporter": "python",
   "pygments_lexer": "ipython3",
   "version": "3.10.6"
  },
  "orig_nbformat": 4
 },
 "nbformat": 4,
 "nbformat_minor": 2
}
